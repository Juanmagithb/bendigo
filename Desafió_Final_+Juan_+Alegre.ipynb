{
  "nbformat": 4,
  "nbformat_minor": 0,
  "metadata": {
    "colab": {
      "provenance": [],
      "collapsed_sections": [
        "RRARuLd1DFqO",
        "6YRDtJiCRiHm",
        "-A9ZJmapRk6-",
        "eJY5O-qsRpi3",
        "VHFlccb1DlzP",
        "QLBqlIFwExgU",
        "BkWALXsffk3r",
        "V79rLfQKsifr",
        "hPDXqkN8vIQ_",
        "2FT41g3uofmW",
        "aTpdORkLgoxx",
        "2mK1TYMpsAdY",
        "6IlACztWqvf9",
        "8fQEftfZc5rL"
      ],
      "authorship_tag": "ABX9TyNRQD62ApIy0ws4hh7jTdPs",
      "include_colab_link": true
    },
    "kernelspec": {
      "name": "python3",
      "display_name": "Python 3"
    },
    "language_info": {
      "name": "python"
    }
  },
  "cells": [
    {
      "cell_type": "markdown",
      "metadata": {
        "id": "view-in-github",
        "colab_type": "text"
      },
      "source": [
        "<a href=\"https://colab.research.google.com/github/Juanmagithb/bendigo/blob/main/Desafi%C3%B3_Final_%2BJuan_%2BAlegre.ipynb\" target=\"_parent\"><img src=\"https://colab.research.google.com/assets/colab-badge.svg\" alt=\"Open In Colab\"/></a>"
      ]
    },
    {
      "cell_type": "markdown",
      "source": [
        "# Introducción"
      ],
      "metadata": {
        "id": "RRARuLd1DFqO"
      }
    },
    {
      "cell_type": "markdown",
      "source": [
        "## Contexto comercial"
      ],
      "metadata": {
        "id": "6YRDtJiCRiHm"
      }
    },
    {
      "cell_type": "markdown",
      "source": [
        "Gran parte de la actividad economica en Bendigo se debe la extranccion de minerales.\n",
        "Es por esto que el clima es un factor crítico que puede afectar directamente la producción y los costos de la operación minera. Las condiciones climáticas, como las lluvias, la nieve, el viento, la temperatura y la humedad, pueden afectar la seguridad de los trabajadores, la calidad del mineral extraído y la eficiencia de los procesos de producción.\n",
        "\n",
        "Un sistema predictivo del clima en una economía minera como la Bendigo tendría un contexto comercial muy importante, ya que podría proporcionar información precisa y oportuna sobre las condiciones climáticas futuras, lo que permitiría a las empresas mineras tomar decisiones informadas sobre sus operaciones. Algunas aplicaciones comerciales de un sistema predictivo del clima en una economía minera podrían incluir:\n",
        "\n",
        "\n",
        "*   **Planificación de operaciones mineras:** Un sistema predictivo del clima podría ayudar a las empresas mineras a planificar sus operaciones con anticipación, lo que les permitiría ajustar su producción y sus procesos para adaptarse a las condiciones climáticas previstas. Por ejemplo, si se pronostica una tormenta de nieve, la empresa podría reducir su producción para evitar que se acumule nieve en los caminos y reducir el riesgo de accidentes.\n",
        "\n",
        "*   **Gestión de riesgos:** Las condiciones climáticas extremas pueden aumentar los riesgos para los trabajadores y la infraestructura de la mina. Un sistema predictivo del clima podría ayudar a las empresas a identificar y gestionar estos riesgos, permitiendo la evacuación de los trabajadores en caso de una tormenta o la preparación de equipos para soportar condiciones climáticas adversas.\n",
        "\n",
        "*   **Optimización de costos:** Al tener información precisa sobre las condiciones climáticas futuras, las empresas mineras podrían optimizar sus costos de producción al planificar mejor la programación de sus operaciones y minimizar los costos asociados con el clima, como el mantenimiento de carreteras y el consumo de energía."
      ],
      "metadata": {
        "id": "sCKS-tHNDIk2"
      }
    },
    {
      "cell_type": "markdown",
      "source": [
        "## Problema comercial"
      ],
      "metadata": {
        "id": "-A9ZJmapRk6-"
      }
    },
    {
      "cell_type": "markdown",
      "source": [
        "Debemos dar respuestas a la siguientes preguntas:\n",
        "\n",
        "*   ¿En que epoca del año es probable que se interrupan las actividades por lluvia?\n",
        "\n",
        "*   ¿En que epoca del año se deben tomar mayores precauciones frente a las nevadas?\n",
        "\n",
        "*   ¿Las temperaturas permiten que las actividades se realicen de forma optima?"
      ],
      "metadata": {
        "id": "YBwZfCFMDMPO"
      }
    },
    {
      "cell_type": "markdown",
      "source": [
        "## Contexto Analitico"
      ],
      "metadata": {
        "id": "eJY5O-qsRpi3"
      }
    },
    {
      "cell_type": "markdown",
      "source": [
        "Variables que son de interes:\n",
        "\n",
        "*   Moth: Mes\n",
        "*   Year : Año\n",
        "*   MinTemp : Temperatura minima en °C\n",
        "*   MaxTemp : Temperatura maxima en °C\n",
        "*   Rainfall : Lluvia en mm\n",
        "*   Humidity9am : % de humedad a las 9am\n",
        "*   Humidity3pm : % de humedad a las 3pm\n",
        "*   Pressure9am : Presion atmosferica a las 9am en hPa\n",
        "*   Pressure3pm : Presion atmosferica a las 3am en hPa\n",
        "*   Temp9am : Temperatura a las 9am en °C\n",
        "*   Temp3pm : Temperatura a las 3pm en °C\n",
        "*   RainToday : Se verifica lluvia en el dia\n",
        "*   RainTomorrow : Se verifica lluvia el dia siguiente"
      ],
      "metadata": {
        "id": "5AOyoUtzDOPF"
      }
    },
    {
      "cell_type": "markdown",
      "source": [
        "## Configuración"
      ],
      "metadata": {
        "id": "Q0yXfWD3DRhb"
      }
    },
    {
      "cell_type": "code",
      "source": [
        "#Importacion de librerias\n",
        "import pandas as pd\n",
        "import matplotlib as mpl\n",
        "import matplotlib.pyplot as plt\n",
        "import seaborn as sns\n",
        "import calendar\n",
        "import numpy as np\n",
        "import requests\n",
        "import json\n",
        "\n",
        "#Conexion con google drive\n",
        "from google.colab import files\n",
        "from google.colab import drive\n",
        "drive.mount('/content/drive')\n",
        "bendigo_weather = pd.read_excel('/content/drive/MyDrive/Colab Notebooks/datasets/Bendigo_weather.xlsx')"
      ],
      "metadata": {
        "id": "SWozjAGeDSjw",
        "colab": {
          "base_uri": "https://localhost:8080/"
        },
        "outputId": "ea1ee2c9-1588-40c0-d5e4-0d9e23c592b1"
      },
      "execution_count": 1,
      "outputs": [
        {
          "output_type": "stream",
          "name": "stdout",
          "text": [
            "Mounted at /content/drive\n"
          ]
        }
      ]
    },
    {
      "cell_type": "markdown",
      "source": [
        "## EDA + Data Wrangling"
      ],
      "metadata": {
        "id": "VHFlccb1DlzP"
      }
    },
    {
      "cell_type": "markdown",
      "source": [
        "**Control de duplicados**"
      ],
      "metadata": {
        "id": "rksMbM9GDsuM"
      }
    },
    {
      "cell_type": "code",
      "source": [
        "bendigo_weather[\"Date\"].duplicated().sum()"
      ],
      "metadata": {
        "colab": {
          "base_uri": "https://localhost:8080/"
        },
        "id": "A8s3T-6NDr0s",
        "outputId": "b023a3e6-2328-4903-e1f1-07170fbab604"
      },
      "execution_count": null,
      "outputs": [
        {
          "output_type": "execute_result",
          "data": {
            "text/plain": [
              "0"
            ]
          },
          "metadata": {},
          "execution_count": 41
        }
      ]
    },
    {
      "cell_type": "markdown",
      "source": [
        "Se verifica que no hay registros duplicados\n",
        "\n",
        "\n",
        "---\n"
      ],
      "metadata": {
        "id": "zDxKFllrDvGe"
      }
    },
    {
      "cell_type": "markdown",
      "source": [
        "**Feature selection #1**"
      ],
      "metadata": {
        "id": "ORT7OOzPszI8"
      }
    },
    {
      "cell_type": "code",
      "source": [
        "bendigo_weather.drop(['Location' , 'Evaporation', 'Sunshine','WindGustDir','WindGustSpeed','WindDir9am','WindDir3pm','WindSpeed9am','WindSpeed3pm','Cloud9am','Cloud3pm'],axis = 1, inplace = True)"
      ],
      "metadata": {
        "id": "mp9MGp7vD2kZ"
      },
      "execution_count": null,
      "outputs": []
    },
    {
      "cell_type": "markdown",
      "source": [
        "Dejamos unicamente las variables necesarias para el Storytelling\n",
        "\n",
        "---"
      ],
      "metadata": {
        "id": "tyYAS45RD5SB"
      }
    },
    {
      "cell_type": "markdown",
      "source": [
        "**Analisis de datos nulos**"
      ],
      "metadata": {
        "id": "Pt7Yy33FD7Ey"
      }
    },
    {
      "cell_type": "code",
      "source": [
        "bendigo_weather.isnull().sum()"
      ],
      "metadata": {
        "colab": {
          "base_uri": "https://localhost:8080/"
        },
        "id": "jQXN32lxD8Ou",
        "outputId": "a7d27fa3-3f8a-4976-dd29-5216a19e8627"
      },
      "execution_count": null,
      "outputs": [
        {
          "output_type": "execute_result",
          "data": {
            "text/plain": [
              "Date             0\n",
              "Day              0\n",
              "Moth             0\n",
              "Year             0\n",
              "MinTemp          2\n",
              "MaxTemp          5\n",
              "Rainfall         6\n",
              "Humidity9am      7\n",
              "Humidity3pm      2\n",
              "Pressure9am     15\n",
              "Pressure3pm     10\n",
              "Temp9am          3\n",
              "Temp3pm          2\n",
              "RainToday        6\n",
              "RainTomorrow     6\n",
              "dtype: int64"
            ]
          },
          "metadata": {},
          "execution_count": 43
        }
      ]
    },
    {
      "cell_type": "markdown",
      "source": [
        "Por fortuna tenemos muy pocos casos nulos que no suponen una cantidad representativa respecto al df, es por esto que se decide eliminar los mismos para agilizar el proceso y evitar posibles outliers."
      ],
      "metadata": {
        "id": "-GqtxkHJECSn"
      }
    },
    {
      "cell_type": "code",
      "source": [
        "bendigo_weather.dropna(subset=[ 'MinTemp','MaxTemp','Rainfall','Humidity9am','Humidity3pm','Pressure9am','Pressure3pm','Temp9am', 'Temp3pm','RainToday','RainTomorrow' ], inplace = True)"
      ],
      "metadata": {
        "id": "zhZdIeRREEl5"
      },
      "execution_count": null,
      "outputs": []
    },
    {
      "cell_type": "markdown",
      "source": [
        "Se perdieron el proceso de depuracion 31 filas de datos, que representan un  %1 del df original.\n",
        "\n",
        "\n",
        "\n",
        "---"
      ],
      "metadata": {
        "id": "WAdPcu0xEHER"
      }
    },
    {
      "cell_type": "markdown",
      "source": [
        "**Analisis circustancial**"
      ],
      "metadata": {
        "id": "2u2O6pQ3EI74"
      }
    },
    {
      "cell_type": "markdown",
      "source": [
        "En el caso de el dato **Rainfall** que representa la cantidad de lluvia registrada de forma diaria, no tiene sentido que este dato tenga un valor superior a 0 si el valor de **RainToday** es igual a \"No\".\n",
        "Procedemos a depurar quellos casos que no cumplan con las condiciones antes mencionadas."
      ],
      "metadata": {
        "id": "xw-00jvXEKQi"
      }
    },
    {
      "cell_type": "code",
      "source": [
        "rain_today_no = bendigo_weather[bendigo_weather.RainToday == \"No\"]\n",
        "rain_today_no.Rainfall.unique()"
      ],
      "metadata": {
        "colab": {
          "base_uri": "https://localhost:8080/"
        },
        "id": "OQq_76t7ER0d",
        "outputId": "c13eafe5-7c9f-4668-a766-ab8da3e2bf38"
      },
      "execution_count": null,
      "outputs": [
        {
          "output_type": "execute_result",
          "data": {
            "text/plain": [
              "array([0. , 0.2, 0.8, 0.4, 1. , 0.6])"
            ]
          },
          "metadata": {},
          "execution_count": 45
        }
      ]
    },
    {
      "cell_type": "markdown",
      "source": [
        "En los todos los casos no se supero el 1mm de precipitacion registrada."
      ],
      "metadata": {
        "id": "VlXeUCBGEUzO"
      }
    },
    {
      "cell_type": "code",
      "source": [
        "rain_today_no = rain_today_no[rain_today_no.Rainfall > 0]\n",
        "rain_today_no"
      ],
      "metadata": {
        "colab": {
          "base_uri": "https://localhost:8080/",
          "height": 423
        },
        "id": "VjMaxHBgEZyb",
        "outputId": "e436e915-6fb3-4e25-d90a-2bf34a62a7a2"
      },
      "execution_count": null,
      "outputs": [
        {
          "output_type": "execute_result",
          "data": {
            "text/plain": [
              "           Date  Day      Moth  Year  MinTemp  MaxTemp  Rainfall  Humidity9am  \\\n",
              "4    2008-12-05    5  december  2008     15.1     30.3       0.2         68.0   \n",
              "5    2008-12-06    6  december  2008      9.9     27.2       0.2         60.0   \n",
              "6    2008-12-07    7  december  2008      8.0     22.0       0.2         47.0   \n",
              "10   2008-12-11   11  december  2008      8.7     28.7       0.2         43.0   \n",
              "26   2008-12-27   27  december  2008     17.5     32.1       0.2         70.0   \n",
              "...         ...  ...       ...   ...      ...      ...       ...          ...   \n",
              "3027 2017-06-13   13      june  2017      1.4     15.7       0.2         99.0   \n",
              "3028 2017-06-14   14      june  2017      1.9     15.2       0.2         99.0   \n",
              "3030 2017-06-16   16      june  2017      3.3     13.8       0.2         99.0   \n",
              "3034 2017-06-20   20      june  2017     -0.3     14.1       0.2         98.0   \n",
              "3036 2017-06-22   22      june  2017      5.1     12.8       0.2         84.0   \n",
              "\n",
              "      Humidity3pm  Pressure9am  Pressure3pm  Temp9am  Temp3pm RainToday  \\\n",
              "4            29.0       1008.0       1005.0     21.3     29.2        No   \n",
              "5            29.0       1010.0       1005.6     18.0     26.2        No   \n",
              "6            26.0       1012.4       1010.7     13.1     20.4        No   \n",
              "10           13.0       1012.8       1009.7     16.8     26.3        No   \n",
              "26           32.0       1006.8       1002.3     21.1     29.7        No   \n",
              "...           ...          ...          ...      ...      ...       ...   \n",
              "3027         61.0       1031.3       1029.1      6.2     15.2        No   \n",
              "3028         65.0       1030.8       1027.9      6.1     14.4        No   \n",
              "3030         77.0       1026.4       1024.1      5.9     13.2        No   \n",
              "3034         64.0       1029.4       1026.1      4.5     13.5        No   \n",
              "3036         59.0       1028.5       1025.5      8.6     12.6        No   \n",
              "\n",
              "     RainTomorrow  \n",
              "4              No  \n",
              "5              No  \n",
              "6              No  \n",
              "10             No  \n",
              "26             No  \n",
              "...           ...  \n",
              "3027           No  \n",
              "3028           No  \n",
              "3030           No  \n",
              "3034           No  \n",
              "3036           No  \n",
              "\n",
              "[522 rows x 15 columns]"
            ],
            "text/html": [
              "\n",
              "  <div id=\"df-b0be1061-18fc-4cd6-b752-98cd00885d0c\" class=\"colab-df-container\">\n",
              "    <div>\n",
              "<style scoped>\n",
              "    .dataframe tbody tr th:only-of-type {\n",
              "        vertical-align: middle;\n",
              "    }\n",
              "\n",
              "    .dataframe tbody tr th {\n",
              "        vertical-align: top;\n",
              "    }\n",
              "\n",
              "    .dataframe thead th {\n",
              "        text-align: right;\n",
              "    }\n",
              "</style>\n",
              "<table border=\"1\" class=\"dataframe\">\n",
              "  <thead>\n",
              "    <tr style=\"text-align: right;\">\n",
              "      <th></th>\n",
              "      <th>Date</th>\n",
              "      <th>Day</th>\n",
              "      <th>Moth</th>\n",
              "      <th>Year</th>\n",
              "      <th>MinTemp</th>\n",
              "      <th>MaxTemp</th>\n",
              "      <th>Rainfall</th>\n",
              "      <th>Humidity9am</th>\n",
              "      <th>Humidity3pm</th>\n",
              "      <th>Pressure9am</th>\n",
              "      <th>Pressure3pm</th>\n",
              "      <th>Temp9am</th>\n",
              "      <th>Temp3pm</th>\n",
              "      <th>RainToday</th>\n",
              "      <th>RainTomorrow</th>\n",
              "    </tr>\n",
              "  </thead>\n",
              "  <tbody>\n",
              "    <tr>\n",
              "      <th>4</th>\n",
              "      <td>2008-12-05</td>\n",
              "      <td>5</td>\n",
              "      <td>december</td>\n",
              "      <td>2008</td>\n",
              "      <td>15.1</td>\n",
              "      <td>30.3</td>\n",
              "      <td>0.2</td>\n",
              "      <td>68.0</td>\n",
              "      <td>29.0</td>\n",
              "      <td>1008.0</td>\n",
              "      <td>1005.0</td>\n",
              "      <td>21.3</td>\n",
              "      <td>29.2</td>\n",
              "      <td>No</td>\n",
              "      <td>No</td>\n",
              "    </tr>\n",
              "    <tr>\n",
              "      <th>5</th>\n",
              "      <td>2008-12-06</td>\n",
              "      <td>6</td>\n",
              "      <td>december</td>\n",
              "      <td>2008</td>\n",
              "      <td>9.9</td>\n",
              "      <td>27.2</td>\n",
              "      <td>0.2</td>\n",
              "      <td>60.0</td>\n",
              "      <td>29.0</td>\n",
              "      <td>1010.0</td>\n",
              "      <td>1005.6</td>\n",
              "      <td>18.0</td>\n",
              "      <td>26.2</td>\n",
              "      <td>No</td>\n",
              "      <td>No</td>\n",
              "    </tr>\n",
              "    <tr>\n",
              "      <th>6</th>\n",
              "      <td>2008-12-07</td>\n",
              "      <td>7</td>\n",
              "      <td>december</td>\n",
              "      <td>2008</td>\n",
              "      <td>8.0</td>\n",
              "      <td>22.0</td>\n",
              "      <td>0.2</td>\n",
              "      <td>47.0</td>\n",
              "      <td>26.0</td>\n",
              "      <td>1012.4</td>\n",
              "      <td>1010.7</td>\n",
              "      <td>13.1</td>\n",
              "      <td>20.4</td>\n",
              "      <td>No</td>\n",
              "      <td>No</td>\n",
              "    </tr>\n",
              "    <tr>\n",
              "      <th>10</th>\n",
              "      <td>2008-12-11</td>\n",
              "      <td>11</td>\n",
              "      <td>december</td>\n",
              "      <td>2008</td>\n",
              "      <td>8.7</td>\n",
              "      <td>28.7</td>\n",
              "      <td>0.2</td>\n",
              "      <td>43.0</td>\n",
              "      <td>13.0</td>\n",
              "      <td>1012.8</td>\n",
              "      <td>1009.7</td>\n",
              "      <td>16.8</td>\n",
              "      <td>26.3</td>\n",
              "      <td>No</td>\n",
              "      <td>No</td>\n",
              "    </tr>\n",
              "    <tr>\n",
              "      <th>26</th>\n",
              "      <td>2008-12-27</td>\n",
              "      <td>27</td>\n",
              "      <td>december</td>\n",
              "      <td>2008</td>\n",
              "      <td>17.5</td>\n",
              "      <td>32.1</td>\n",
              "      <td>0.2</td>\n",
              "      <td>70.0</td>\n",
              "      <td>32.0</td>\n",
              "      <td>1006.8</td>\n",
              "      <td>1002.3</td>\n",
              "      <td>21.1</td>\n",
              "      <td>29.7</td>\n",
              "      <td>No</td>\n",
              "      <td>No</td>\n",
              "    </tr>\n",
              "    <tr>\n",
              "      <th>...</th>\n",
              "      <td>...</td>\n",
              "      <td>...</td>\n",
              "      <td>...</td>\n",
              "      <td>...</td>\n",
              "      <td>...</td>\n",
              "      <td>...</td>\n",
              "      <td>...</td>\n",
              "      <td>...</td>\n",
              "      <td>...</td>\n",
              "      <td>...</td>\n",
              "      <td>...</td>\n",
              "      <td>...</td>\n",
              "      <td>...</td>\n",
              "      <td>...</td>\n",
              "      <td>...</td>\n",
              "    </tr>\n",
              "    <tr>\n",
              "      <th>3027</th>\n",
              "      <td>2017-06-13</td>\n",
              "      <td>13</td>\n",
              "      <td>june</td>\n",
              "      <td>2017</td>\n",
              "      <td>1.4</td>\n",
              "      <td>15.7</td>\n",
              "      <td>0.2</td>\n",
              "      <td>99.0</td>\n",
              "      <td>61.0</td>\n",
              "      <td>1031.3</td>\n",
              "      <td>1029.1</td>\n",
              "      <td>6.2</td>\n",
              "      <td>15.2</td>\n",
              "      <td>No</td>\n",
              "      <td>No</td>\n",
              "    </tr>\n",
              "    <tr>\n",
              "      <th>3028</th>\n",
              "      <td>2017-06-14</td>\n",
              "      <td>14</td>\n",
              "      <td>june</td>\n",
              "      <td>2017</td>\n",
              "      <td>1.9</td>\n",
              "      <td>15.2</td>\n",
              "      <td>0.2</td>\n",
              "      <td>99.0</td>\n",
              "      <td>65.0</td>\n",
              "      <td>1030.8</td>\n",
              "      <td>1027.9</td>\n",
              "      <td>6.1</td>\n",
              "      <td>14.4</td>\n",
              "      <td>No</td>\n",
              "      <td>No</td>\n",
              "    </tr>\n",
              "    <tr>\n",
              "      <th>3030</th>\n",
              "      <td>2017-06-16</td>\n",
              "      <td>16</td>\n",
              "      <td>june</td>\n",
              "      <td>2017</td>\n",
              "      <td>3.3</td>\n",
              "      <td>13.8</td>\n",
              "      <td>0.2</td>\n",
              "      <td>99.0</td>\n",
              "      <td>77.0</td>\n",
              "      <td>1026.4</td>\n",
              "      <td>1024.1</td>\n",
              "      <td>5.9</td>\n",
              "      <td>13.2</td>\n",
              "      <td>No</td>\n",
              "      <td>No</td>\n",
              "    </tr>\n",
              "    <tr>\n",
              "      <th>3034</th>\n",
              "      <td>2017-06-20</td>\n",
              "      <td>20</td>\n",
              "      <td>june</td>\n",
              "      <td>2017</td>\n",
              "      <td>-0.3</td>\n",
              "      <td>14.1</td>\n",
              "      <td>0.2</td>\n",
              "      <td>98.0</td>\n",
              "      <td>64.0</td>\n",
              "      <td>1029.4</td>\n",
              "      <td>1026.1</td>\n",
              "      <td>4.5</td>\n",
              "      <td>13.5</td>\n",
              "      <td>No</td>\n",
              "      <td>No</td>\n",
              "    </tr>\n",
              "    <tr>\n",
              "      <th>3036</th>\n",
              "      <td>2017-06-22</td>\n",
              "      <td>22</td>\n",
              "      <td>june</td>\n",
              "      <td>2017</td>\n",
              "      <td>5.1</td>\n",
              "      <td>12.8</td>\n",
              "      <td>0.2</td>\n",
              "      <td>84.0</td>\n",
              "      <td>59.0</td>\n",
              "      <td>1028.5</td>\n",
              "      <td>1025.5</td>\n",
              "      <td>8.6</td>\n",
              "      <td>12.6</td>\n",
              "      <td>No</td>\n",
              "      <td>No</td>\n",
              "    </tr>\n",
              "  </tbody>\n",
              "</table>\n",
              "<p>522 rows × 15 columns</p>\n",
              "</div>\n",
              "    <div class=\"colab-df-buttons\">\n",
              "\n",
              "  <div class=\"colab-df-container\">\n",
              "    <button class=\"colab-df-convert\" onclick=\"convertToInteractive('df-b0be1061-18fc-4cd6-b752-98cd00885d0c')\"\n",
              "            title=\"Convert this dataframe to an interactive table.\"\n",
              "            style=\"display:none;\">\n",
              "\n",
              "  <svg xmlns=\"http://www.w3.org/2000/svg\" height=\"24px\" viewBox=\"0 -960 960 960\">\n",
              "    <path d=\"M120-120v-720h720v720H120Zm60-500h600v-160H180v160Zm220 220h160v-160H400v160Zm0 220h160v-160H400v160ZM180-400h160v-160H180v160Zm440 0h160v-160H620v160ZM180-180h160v-160H180v160Zm440 0h160v-160H620v160Z\"/>\n",
              "  </svg>\n",
              "    </button>\n",
              "\n",
              "  <style>\n",
              "    .colab-df-container {\n",
              "      display:flex;\n",
              "      gap: 12px;\n",
              "    }\n",
              "\n",
              "    .colab-df-convert {\n",
              "      background-color: #E8F0FE;\n",
              "      border: none;\n",
              "      border-radius: 50%;\n",
              "      cursor: pointer;\n",
              "      display: none;\n",
              "      fill: #1967D2;\n",
              "      height: 32px;\n",
              "      padding: 0 0 0 0;\n",
              "      width: 32px;\n",
              "    }\n",
              "\n",
              "    .colab-df-convert:hover {\n",
              "      background-color: #E2EBFA;\n",
              "      box-shadow: 0px 1px 2px rgba(60, 64, 67, 0.3), 0px 1px 3px 1px rgba(60, 64, 67, 0.15);\n",
              "      fill: #174EA6;\n",
              "    }\n",
              "\n",
              "    .colab-df-buttons div {\n",
              "      margin-bottom: 4px;\n",
              "    }\n",
              "\n",
              "    [theme=dark] .colab-df-convert {\n",
              "      background-color: #3B4455;\n",
              "      fill: #D2E3FC;\n",
              "    }\n",
              "\n",
              "    [theme=dark] .colab-df-convert:hover {\n",
              "      background-color: #434B5C;\n",
              "      box-shadow: 0px 1px 3px 1px rgba(0, 0, 0, 0.15);\n",
              "      filter: drop-shadow(0px 1px 2px rgba(0, 0, 0, 0.3));\n",
              "      fill: #FFFFFF;\n",
              "    }\n",
              "  </style>\n",
              "\n",
              "    <script>\n",
              "      const buttonEl =\n",
              "        document.querySelector('#df-b0be1061-18fc-4cd6-b752-98cd00885d0c button.colab-df-convert');\n",
              "      buttonEl.style.display =\n",
              "        google.colab.kernel.accessAllowed ? 'block' : 'none';\n",
              "\n",
              "      async function convertToInteractive(key) {\n",
              "        const element = document.querySelector('#df-b0be1061-18fc-4cd6-b752-98cd00885d0c');\n",
              "        const dataTable =\n",
              "          await google.colab.kernel.invokeFunction('convertToInteractive',\n",
              "                                                    [key], {});\n",
              "        if (!dataTable) return;\n",
              "\n",
              "        const docLinkHtml = 'Like what you see? Visit the ' +\n",
              "          '<a target=\"_blank\" href=https://colab.research.google.com/notebooks/data_table.ipynb>data table notebook</a>'\n",
              "          + ' to learn more about interactive tables.';\n",
              "        element.innerHTML = '';\n",
              "        dataTable['output_type'] = 'display_data';\n",
              "        await google.colab.output.renderOutput(dataTable, element);\n",
              "        const docLink = document.createElement('div');\n",
              "        docLink.innerHTML = docLinkHtml;\n",
              "        element.appendChild(docLink);\n",
              "      }\n",
              "    </script>\n",
              "  </div>\n",
              "\n",
              "\n",
              "<div id=\"df-b38b2fff-1d8e-4268-bfbb-bffbd998c4dc\">\n",
              "  <button class=\"colab-df-quickchart\" onclick=\"quickchart('df-b38b2fff-1d8e-4268-bfbb-bffbd998c4dc')\"\n",
              "            title=\"Suggest charts.\"\n",
              "            style=\"display:none;\">\n",
              "\n",
              "<svg xmlns=\"http://www.w3.org/2000/svg\" height=\"24px\"viewBox=\"0 0 24 24\"\n",
              "     width=\"24px\">\n",
              "    <g>\n",
              "        <path d=\"M19 3H5c-1.1 0-2 .9-2 2v14c0 1.1.9 2 2 2h14c1.1 0 2-.9 2-2V5c0-1.1-.9-2-2-2zM9 17H7v-7h2v7zm4 0h-2V7h2v10zm4 0h-2v-4h2v4z\"/>\n",
              "    </g>\n",
              "</svg>\n",
              "  </button>\n",
              "\n",
              "<style>\n",
              "  .colab-df-quickchart {\n",
              "    background-color: #E8F0FE;\n",
              "    border: none;\n",
              "    border-radius: 50%;\n",
              "    cursor: pointer;\n",
              "    display: none;\n",
              "    fill: #1967D2;\n",
              "    height: 32px;\n",
              "    padding: 0 0 0 0;\n",
              "    width: 32px;\n",
              "  }\n",
              "\n",
              "  .colab-df-quickchart:hover {\n",
              "    background-color: #E2EBFA;\n",
              "    box-shadow: 0px 1px 2px rgba(60, 64, 67, 0.3), 0px 1px 3px 1px rgba(60, 64, 67, 0.15);\n",
              "    fill: #174EA6;\n",
              "  }\n",
              "\n",
              "  [theme=dark] .colab-df-quickchart {\n",
              "    background-color: #3B4455;\n",
              "    fill: #D2E3FC;\n",
              "  }\n",
              "\n",
              "  [theme=dark] .colab-df-quickchart:hover {\n",
              "    background-color: #434B5C;\n",
              "    box-shadow: 0px 1px 3px 1px rgba(0, 0, 0, 0.15);\n",
              "    filter: drop-shadow(0px 1px 2px rgba(0, 0, 0, 0.3));\n",
              "    fill: #FFFFFF;\n",
              "  }\n",
              "</style>\n",
              "\n",
              "  <script>\n",
              "    async function quickchart(key) {\n",
              "      const charts = await google.colab.kernel.invokeFunction(\n",
              "          'suggestCharts', [key], {});\n",
              "    }\n",
              "    (() => {\n",
              "      let quickchartButtonEl =\n",
              "        document.querySelector('#df-b38b2fff-1d8e-4268-bfbb-bffbd998c4dc button');\n",
              "      quickchartButtonEl.style.display =\n",
              "        google.colab.kernel.accessAllowed ? 'block' : 'none';\n",
              "    })();\n",
              "  </script>\n",
              "</div>\n",
              "    </div>\n",
              "  </div>\n"
            ]
          },
          "metadata": {},
          "execution_count": 46
        }
      ]
    },
    {
      "cell_type": "markdown",
      "source": [
        "Se verifican entonces 522 casos que no cumplen con la condicion, debemos entonces imputar con un 0 los valores de **Rainfall** en estos casos.\n",
        "\n",
        "Para eso utilizamos el siguiente codigo:"
      ],
      "metadata": {
        "id": "LD-CD8P-EYjF"
      }
    },
    {
      "cell_type": "code",
      "source": [
        "bendigo_weather.loc[bendigo_weather['RainToday'] == 'No', 'Rainfall'] = 0"
      ],
      "metadata": {
        "id": "eDH2tkCEEm8d"
      },
      "execution_count": null,
      "outputs": []
    },
    {
      "cell_type": "markdown",
      "source": [
        "Queda solucionada la desviacion que reportaba lluvias los dias que no se detectaron precipitaciones.\n",
        "\n",
        "\n",
        "---"
      ],
      "metadata": {
        "id": "SIgY8ESBErUe"
      }
    },
    {
      "cell_type": "markdown",
      "source": [
        "## Insights"
      ],
      "metadata": {
        "id": "A7IhVMlhs6Ct"
      }
    },
    {
      "cell_type": "markdown",
      "source": [
        "### ¿En que epoca del año es probable que se interrupan las actividades de mineria por lluvia en Bendingo?"
      ],
      "metadata": {
        "id": "QLBqlIFwExgU"
      }
    },
    {
      "cell_type": "code",
      "source": [
        "bendigo_weather[\"month_num\"] = bendigo_weather[\"Moth\"].apply(lambda x: list(calendar.month_name).index(x.title()))\n",
        "\n",
        "bendigo = bendigo_weather.sort_values(\"month_num\")\n",
        "\n",
        "rainfall_sum_by_month = bendigo.groupby('month_num')['Rainfall'].sum().reset_index()\n",
        "\n",
        "plt.figure(figsize=(15,6))\n",
        "sns.barplot(data=rainfall_sum_by_month, x='month_num', y= \"Rainfall\" , palette = \"Blues\" )\n",
        "plt.title('Average rainfall by month')\n",
        "plt.xlabel('Month')\n",
        "plt.ylabel('Rainfall [mm]')\n",
        "plt.show()"
      ],
      "metadata": {
        "colab": {
          "base_uri": "https://localhost:8080/",
          "height": 564
        },
        "id": "b2Him4JhEw_Z",
        "outputId": "3f1cf242-9b40-434b-d7ec-802009389892"
      },
      "execution_count": null,
      "outputs": [
        {
          "output_type": "display_data",
          "data": {
            "text/plain": [
              "<Figure size 1500x600 with 1 Axes>"
            ],
            "image/png": "[encoded data removed]"
          },
          "metadata": {}
        }
      ]
    },
    {
      "cell_type": "markdown",
      "source": [
        "La temporada de mayor indice de lluvias en Bendigo se da entre mayo y octubre.\n",
        "Por lo que durante ese periodo se deben tomar mayores precauciones por lluvias intensas durante las actividades mineria.\n",
        "\n",
        "\n",
        "\n",
        "---\n"
      ],
      "metadata": {
        "id": "-l1FO2QBE2sy"
      }
    },
    {
      "cell_type": "markdown",
      "source": [
        "### ¿En que epoca del año se deben tomar mayores precauciones frente a las nevadas?"
      ],
      "metadata": {
        "id": "ioeAoUBIE5AZ"
      }
    },
    {
      "cell_type": "code",
      "source": [
        "bendigo_snow = bendigo[bendigo.MinTemp <0 ]\n",
        "\n",
        "snowfall_sum_by_month = bendigo_snow.groupby('month_num')['Rainfall'].sum().reset_index()\n",
        "\n",
        "plt.figure(figsize=(15,6))\n",
        "sns.barplot(data=snowfall_sum_by_month, x='month_num', y= \"Rainfall\" , palette = \"Blues\")\n",
        "plt.title('Average monthly snowfall')\n",
        "plt.xlabel('Month')\n",
        "plt.ylabel('Snowfall [cm]')\n",
        "plt.show()"
      ],
      "metadata": {
        "colab": {
          "base_uri": "https://localhost:8080/",
          "height": 564
        },
        "id": "I-XOnV8vE6hE",
        "outputId": "e648f0fc-bb2e-4f5d-b29f-5485cb495511"
      },
      "execution_count": null,
      "outputs": [
        {
          "output_type": "display_data",
          "data": {
            "text/plain": [
              "<Figure size 1500x600 with 1 Axes>"
            ],
            "image/png": "[encoded data removed]"
          },
          "metadata": {}
        }
      ]
    },
    {
      "cell_type": "markdown",
      "source": [
        "La acumulación de nieve y el riesgo de avalanchas pueden dificultar el acceso a las áreas de trabajo y aumentar los peligros para la seguridad, por lo que durante estos periodos se deben tomar mayores precauciones por nevadas intensas durante las actividades mineria.\n",
        "\n",
        "\n",
        "---\n"
      ],
      "metadata": {
        "id": "LUijWDLGE9U4"
      }
    },
    {
      "cell_type": "markdown",
      "source": [
        "### ¿Las temperaturas permiten que las actividades se relicen de forma optima?"
      ],
      "metadata": {
        "id": "cCIUXUrFFIBM"
      }
    },
    {
      "cell_type": "code",
      "source": [
        "temp_max = bendigo.MaxTemp\n",
        "temp_min = bendigo.MinTemp\n",
        "\n",
        "plt.figure(figsize=(15,6))\n",
        "sns.lineplot(data=bendigo, x='Moth', y = temp_max , color =\"red\" )\n",
        "sns.lineplot(data=bendigo, x='Moth', y = temp_min , color =\"blue\" )\n",
        "plt.xlabel('Month')\n",
        "plt.ylabel('Temperature (°C)')\n",
        "plt.title('Average maximum and minimum temperatures per month')\n",
        "plt.show()"
      ],
      "metadata": {
        "colab": {
          "base_uri": "https://localhost:8080/",
          "height": 564
        },
        "id": "0KS-OXISFJWT",
        "outputId": "781886dc-637d-4cdc-9170-3283a30936c5"
      },
      "execution_count": null,
      "outputs": [
        {
          "output_type": "display_data",
          "data": {
            "text/plain": [
              "<Figure size 1500x600 with 1 Axes>"
            ],
            "image/png": "[encoded data removed]"
          },
          "metadata": {}
        }
      ]
    },
    {
      "cell_type": "markdown",
      "source": [
        "La elección entre una baja o alta temperatura en una actividad minera depende de varios factores y consideraciones específicas. No hay una respuesta única o generalizada, ya que las condiciones y requerimientos pueden variar según la ubicación geográfica, el tipo de mineral, el proceso de extracción, entre otros aspectos. Aquí hay algunas consideraciones relevantes:\n",
        "\n",
        "\n",
        "**Baja temperatura:**\n",
        "\n",
        "Ventajas:\n",
        "\n",
        "*   Puede facilitar el enfriamiento de los equipos y maquinaria utilizados en la minería.\n",
        "*   Puede contribuir a un ambiente de trabajo más cómodo y seguro para los trabajadores.\n",
        "*   Puede reducir el riesgo de sobrecalentamiento y fallas en los equipos.\n",
        "\n",
        "\n",
        "Desventajas:\n",
        "\n",
        "*   Puede aumentar la viscosidad de algunos fluidos utilizados en los procesos mineros.\n",
        "*   Puede requerir medidas adicionales para prevenir la congelación de agua y otros líquidos.\n",
        "*   Puede implicar desafíos logísticos y de infraestructura en áreas con temperaturas extremadamente bajas.\n",
        "\n",
        "\n",
        "**Alta temperatura:**\n",
        "\n",
        "Ventajas:\n",
        "\n",
        "*   Puede ayudar a mantener la fluidez de algunos fluidos utilizados en los procesos mineros.\n",
        "*   Puede permitir la operación más eficiente de ciertos equipos y maquinaria.\n",
        "*   Puede facilitar la evaporación de líquidos y el secado de minerales en algunos procesos.\n",
        "\n",
        "Desventajas:\n",
        "\n",
        "*   Puede aumentar el estrés térmico en los trabajadores y requerir medidas adicionales de seguridad y protección.\n",
        "*   Puede aumentar el consumo de energía necesario para enfriar y ventilar los espacios de trabajo.\n",
        "*   Puede aumentar el riesgo de incendios y explosiones en ciertas condiciones.\n",
        "\n",
        "\n",
        "\n",
        "---\n",
        "\n"
      ],
      "metadata": {
        "id": "fdIeWOt3FNlY"
      }
    },
    {
      "cell_type": "markdown",
      "source": [
        "# Ingeniería de atributos"
      ],
      "metadata": {
        "id": "BkWALXsffk3r"
      }
    },
    {
      "cell_type": "markdown",
      "source": [
        "## Feature selection"
      ],
      "metadata": {
        "id": "V79rLfQKsifr"
      }
    },
    {
      "cell_type": "markdown",
      "source": [
        "En esta oportunidad dejaremos una mayor cantidad de variables para determinar mediante un análisis de correlación cuales están en mayor o menor medida ligadas a la predicción de precipitaciones.\n",
        "\n",
        "Además, se intentara predecir precipitaciones un día posterior a la obtención de datos. Por lo que la variable objetivo ahora será:"
      ],
      "metadata": {
        "id": "3-E_Tk1ls_RV"
      }
    },
    {
      "cell_type": "code",
      "source": [
        "bendigo_weather = pd.read_excel('/content/drive/MyDrive/Colab Notebooks/datasets/Bendigo_weather.xlsx')\n",
        "bendigo_weather.loc[bendigo_weather['RainToday'] == 'No', 'Rainfall'] = 0\n",
        "bendigo_weather.drop(['Date','Day','Moth','Year','Location' , 'Evaporation', 'Sunshine','Cloud9am','Cloud3pm'],axis = 1, inplace = True)\n",
        "bendigo_weather.dropna(subset=[ 'MinTemp','MaxTemp','WindGustDir','WindGustSpeed','Humidity9am','WindSpeed9am','Humidity3pm','WindSpeed3pm','Pressure9am','Pressure3pm','Temp9am', 'Temp3pm','WindDir9am','WindDir3pm','Rainfall' ], inplace = True)\n",
        "bendigo_weather['RainTomorrow'] = bendigo_weather['RainTomorrow'].map({'Yes': 1, 'No': 0})\n",
        "bendigo_weather['RainToday'] = bendigo_weather['RainToday'].map({'Yes': 1, 'No': 0})"
      ],
      "metadata": {
        "id": "xUB1KIY7wmm5"
      },
      "execution_count": null,
      "outputs": []
    },
    {
      "cell_type": "markdown",
      "source": [
        "## Análisis de Correlación"
      ],
      "metadata": {
        "id": "hPDXqkN8vIQ_"
      }
    },
    {
      "cell_type": "code",
      "source": [
        "#Calcular la matriz de correlación\n",
        "correlation_matrix = bendigo_weather.corr()\n",
        "\n",
        "#Ordenar las correlaciones con la variable objetivo\n",
        "weather_correlation = correlation_matrix['RainTomorrow'].sort_values(ascending=False)\n",
        "print(weather_correlation)"
      ],
      "metadata": {
        "id": "Np3KGbiGztyX",
        "colab": {
          "base_uri": "https://localhost:8080/"
        },
        "outputId": "2fab5f00-fc81-4f57-8477-1c8e167ce42e"
      },
      "execution_count": null,
      "outputs": [
        {
          "output_type": "stream",
          "name": "stdout",
          "text": [
            "RainTomorrow     1.000000\n",
            "Humidity3pm      0.466439\n",
            "Humidity9am      0.287870\n",
            "RainToday        0.254749\n",
            "Rainfall         0.244074\n",
            "WindGustSpeed    0.167033\n",
            "WindSpeed3pm     0.048925\n",
            "MinTemp          0.040163\n",
            "WindSpeed9am    -0.010278\n",
            "Temp9am         -0.097421\n",
            "MaxTemp         -0.214130\n",
            "Temp3pm         -0.235793\n",
            "Pressure9am     -0.296489\n",
            "Pressure3pm     -0.340852\n",
            "Name: RainTomorrow, dtype: float64\n"
          ]
        }
      ]
    },
    {
      "cell_type": "markdown",
      "source": [
        "Podemos oberservar que las variables mas significativas que estan relacionadas con las precipitaciones registradas al dia siguiente son:\n",
        "\n",
        "*   Humidity3pm\n",
        "*   Humidity9am\n",
        "*   RainToday\n",
        "*   Rainfall\n",
        "*   WindGustSpeed\n",
        "*   WindSpeed3pm\n",
        "*   MinTemp"
      ],
      "metadata": {
        "id": "eCPzxL_scQjw"
      }
    },
    {
      "cell_type": "markdown",
      "source": [
        "## Entrenamiento y testeo"
      ],
      "metadata": {
        "id": "2FT41g3uofmW"
      }
    },
    {
      "cell_type": "markdown",
      "source": [
        "**Preparacion de datos**\n",
        "\n",
        "Incluiremos entonces en la nueva ronda de entrenamiento, las variables mas significativas obtenidas en el análisis de correlación\n"
      ],
      "metadata": {
        "id": "OPPlejetoujI"
      }
    },
    {
      "cell_type": "code",
      "source": [
        "bendigo_weather = pd.read_excel('/content/drive/MyDrive/Colab Notebooks/datasets/Bendigo_weather.xlsx')\n",
        "bendigo_weather.loc[bendigo_weather['RainToday'] == 'No', 'Rainfall'] = 0\n",
        "bendigo_weather.drop(['Location', 'Date','WindGustDir','WindSpeed9am' ,'Day' ,'Moth' ,'Year','Sunshine','Temp9am', 'Temp3pm', 'Evaporation','WindDir9am','WindDir3pm','Cloud9am','Cloud3pm','WindGustDir' ],axis = 1, inplace = True)\n",
        "bendigo_weather.dropna(subset=['MaxTemp','MinTemp','Rainfall','WindGustSpeed','Humidity9am','Humidity3pm','WindSpeed3pm','RainToday','RainTomorrow','Pressure3pm','Pressure9am',], inplace = True)\n",
        "bendigo_weather['RainToday'] = bendigo_weather['RainToday'].map({'Yes': 1, 'No': 0})\n"
      ],
      "metadata": {
        "id": "OrBHk5XZoq_2"
      },
      "execution_count": null,
      "outputs": []
    },
    {
      "cell_type": "markdown",
      "source": [
        "**Rescaleo de Datos**"
      ],
      "metadata": {
        "id": "n5TMdtaXR6hH"
      }
    },
    {
      "cell_type": "code",
      "source": [
        "from sklearn.model_selection import train_test_split\n",
        "from sklearn.preprocessing import StandardScaler\n",
        "\n",
        "# Machine Learning\n",
        "X = bendigo_weather.drop('RainTomorrow', axis=1)\n",
        "y = bendigo_weather['RainTomorrow']\n",
        "X_train, X_test, y_train, y_test = train_test_split(X, y, test_size=0.3, random_state=42)\n",
        "\n",
        "# Crear una instancia del escalador\n",
        "scaler = StandardScaler()\n",
        "\n",
        "# Ajustar el escalador en los datos de entrenamiento y aplicarlo a los datos de prueba\n",
        "X_train_scaled = scaler.fit_transform(X_train)\n",
        "X_test_scaled = scaler.transform(X_test)\n",
        "\n",
        "from sklearn.decomposition import PCA\n",
        "\n",
        "# Especificar el número de componentes principales deseado\n",
        "num_components = 7\n",
        "\n",
        "# Crear una instancia de PCA\n",
        "pca = PCA(n_components=num_components)\n",
        "\n",
        "# Ajustar PCA a tus datos escalados de entrenamiento y transformarlos\n",
        "X_train_pca = pca.fit_transform(X_train_scaled)\n",
        "X_test_pca = pca.transform(X_test_scaled)"
      ],
      "metadata": {
        "id": "-7w3F38jSCSv"
      },
      "execution_count": null,
      "outputs": []
    },
    {
      "cell_type": "markdown",
      "source": [
        "### **Regresión logística**"
      ],
      "metadata": {
        "id": "wFFOadAORaEU"
      }
    },
    {
      "cell_type": "markdown",
      "source": [
        "**Impotacion de las bibliotecas scikit-learn**"
      ],
      "metadata": {
        "id": "5fvrgwLxpfvj"
      }
    },
    {
      "cell_type": "code",
      "source": [
        "from sklearn.model_selection import train_test_split\n",
        "from sklearn.metrics import accuracy_score , mean_squared_error, r2_score\n",
        "from sklearn.linear_model import LogisticRegression"
      ],
      "metadata": {
        "id": "BJByTh6sphjH"
      },
      "execution_count": null,
      "outputs": []
    },
    {
      "cell_type": "markdown",
      "source": [
        "**Calculo de precisión , error cuadrático medio y coeficiente de determinación de la regresión logística**"
      ],
      "metadata": {
        "id": "UIOixm-zTRHs"
      }
    },
    {
      "cell_type": "code",
      "source": [
        "clf = LogisticRegression()\n",
        "clf.fit(X_train_pca, y_train)\n",
        "y_pred = clf.predict(X_test_pca)\n",
        "y_test.replace({\"No\": 0, \"Yes\": 1}, inplace=True)\n",
        "y_pred = np.where(y_pred == 'No', 0, 1)\n",
        "mse = mean_squared_error(y_test, y_pred)\n",
        "r2 = r2_score(y_test, y_pred)\n",
        "accuracy = accuracy_score(y_test, y_pred)\n",
        "print(\"Precisión de Regresión Logística:\", accuracy)\n",
        "print(\"Error cuadrático medio:\", mse)\n",
        "print(\"Coeficiente de determinación (R^2):\", r2)"
      ],
      "metadata": {
        "colab": {
          "base_uri": "https://localhost:8080/"
        },
        "id": "WUz_u3YDSKym",
        "outputId": "bf30f0b0-2652-4a96-fb0f-adf580b7a1b6"
      },
      "execution_count": null,
      "outputs": [
        {
          "output_type": "stream",
          "name": "stdout",
          "text": [
            "Precisión de Regresión Logística: 0.864501679731243\n",
            "Error cuadrático medio: 0.135498320268757\n",
            "Coeficiente de determinación (R^2): 0.14738976738313936\n"
          ]
        }
      ]
    },
    {
      "cell_type": "markdown",
      "source": [
        "### **Árbol de decisión**"
      ],
      "metadata": {
        "id": "k-fCPhkINUW6"
      }
    },
    {
      "cell_type": "markdown",
      "source": [
        "**Impotacion de las bibliotecas scikit-learn**"
      ],
      "metadata": {
        "id": "IZ-Rp1B5Rk8y"
      }
    },
    {
      "cell_type": "code",
      "source": [
        "from sklearn.model_selection import train_test_split\n",
        "from sklearn.metrics import accuracy_score , mean_squared_error, r2_score\n",
        "from sklearn.tree import DecisionTreeClassifier"
      ],
      "metadata": {
        "id": "qWoF-TS1RmvR"
      },
      "execution_count": null,
      "outputs": []
    },
    {
      "cell_type": "markdown",
      "source": [
        "**Calculo de precisión , error cuadrático medio y coeficiente de determinación  del arbol de decisión**"
      ],
      "metadata": {
        "id": "Ea4IrfpgVzMj"
      }
    },
    {
      "cell_type": "code",
      "source": [
        "clf = DecisionTreeClassifier()\n",
        "clf.fit(X_train_pca, y_train)\n",
        "y_pred = clf.predict(X_test_pca)\n",
        "y_test.replace({\"No\": 0, \"Yes\": 1}, inplace=True)\n",
        "y_pred = np.where(y_pred == 'No', 0, 1)\n",
        "mse = mean_squared_error(y_test, y_pred)\n",
        "r2 = r2_score(y_test, y_pred)\n",
        "accuracy = accuracy_score(y_test, y_pred)\n",
        "print(\"Precisión de Regresión Logística:\", accuracy)\n",
        "print(\"Error cuadrático medio:\", mse)\n",
        "print(\"Coeficiente de determinación (R^2):\", r2)"
      ],
      "metadata": {
        "colab": {
          "base_uri": "https://localhost:8080/"
        },
        "id": "oQgctTr8Vy9y",
        "outputId": "9b84e9e1-303f-4f53-b806-fcc601cde9d4"
      },
      "execution_count": null,
      "outputs": [
        {
          "output_type": "stream",
          "name": "stdout",
          "text": [
            "Precisión de Regresión Logística: 0.8017917133258678\n",
            "Error cuadrático medio: 0.19820828667413215\n",
            "Coeficiente de determinación (R^2): -0.24720670391061428\n"
          ]
        }
      ]
    },
    {
      "cell_type": "markdown",
      "source": [
        "## **Seleccion del modelo**"
      ],
      "metadata": {
        "id": "EpaEaWkfWx5f"
      }
    },
    {
      "cell_type": "markdown",
      "source": [
        "Utilizando **num_components = 7** (PCA)\n",
        "\n",
        "\n",
        "\n",
        "*   La presicion de los nuevos modelos es del %86.45 para el modelo de regresion\n",
        "logistica, mientras que la del arbol de desicion fue del %80.17.\n",
        "\n",
        " **En esta métrica de evaluación el modelo de regresion\n",
        "logistica es superior**\n",
        "\n",
        "*   El error cuadrático medio (MSE) obtenido fue de 0.135 para el modelo de regresion logistica, mientras que la del arbol de desicion fue del 0,198\n",
        "\n",
        " **En esta métrica de evaluación el arbol de desicion es superior**\n",
        "\n",
        "*   El coeficiente de determinación (R^2) obtenido fue de 0.14 para el modelo de regresion logistica, mientras que la del arbol de desicion fue del -0.247\n",
        "\n",
        " **En esta métrica de evaluación el modelo de regresion\n",
        "logistica es superior**\n",
        "\n",
        "\n",
        "En conclusión, si bien las metricas de evaluacion son similares entre los modelos elegidos, las del modelo de regresion logistica resultan superiores a las del arbol de desicion. Si bien se reconoce que los resultados obtenidos no son los ideales, se es consciente de que se requerirán iteraciones y mejoras adicionales en el modelo en etapas posteriores. Esto incluirá la optimización de hiperparámetros, la consideración de nuevas características relevantes y otras técnicas para mejorar la precisión de las predicciones.\n",
        "\n",
        "\n",
        "\n",
        "---\n",
        "\n"
      ],
      "metadata": {
        "id": "S56h6Ca8X_CJ"
      }
    },
    {
      "cell_type": "markdown",
      "source": [
        "#Optimización"
      ],
      "metadata": {
        "id": "aTpdORkLgoxx"
      }
    },
    {
      "cell_type": "markdown",
      "source": [
        "## Preparacion de datos"
      ],
      "metadata": {
        "id": "2mK1TYMpsAdY"
      }
    },
    {
      "cell_type": "code",
      "source": [
        "#Importacion de librerias\n",
        "import pandas as pd\n",
        "import matplotlib as mpl\n",
        "import matplotlib.pyplot as plt\n",
        "import seaborn as sns\n",
        "import calendar\n",
        "import numpy as np\n",
        "import requests\n",
        "import json\n",
        "\n",
        "#Conexion con google drive\n",
        "from google.colab import files\n",
        "from google.colab import drive\n",
        "drive.mount('/content/drive')\n",
        "bendigo_weather = pd.read_excel('/content/drive/MyDrive/Colab Notebooks/datasets/Bendigo_weather.xlsx')\n",
        "\n",
        "#Data Wrangling + Feature Engineering\n",
        "bendigo_weather.loc[bendigo_weather['RainToday'] == 'No', 'Rainfall'] = 0\n",
        "bendigo_weather.drop(['Location', 'Date','WindGustDir','WindSpeed9am' ,'Day' ,'Moth' ,'Year','Sunshine','Temp9am', 'Temp3pm', 'Evaporation','WindDir9am','WindDir3pm','Cloud9am','Cloud3pm','WindGustDir' ],axis = 1, inplace = True)\n",
        "bendigo_weather.dropna(subset=['MaxTemp','MinTemp','Rainfall','WindGustSpeed','Humidity9am','Humidity3pm','WindSpeed3pm','RainToday','RainTomorrow','Pressure3pm','Pressure9am',], inplace = True)\n",
        "bendigo_weather['RainToday'] = bendigo_weather['RainToday'].map({'Yes': 1, 'No': 0})\n",
        "\n",
        "#Rescaleo de datos\n",
        "\n",
        "from sklearn.model_selection import train_test_split\n",
        "from sklearn.preprocessing import StandardScaler\n",
        "\n",
        "# Machine Learning\n",
        "X = bendigo_weather.drop('RainTomorrow', axis=1)\n",
        "y = bendigo_weather['RainTomorrow']\n",
        "X_train, X_test, y_train, y_test = train_test_split(X, y, test_size=0.3, random_state=42)\n",
        "\n",
        "# Crear una instancia del escalador\n",
        "scaler = StandardScaler()\n",
        "\n",
        "# Ajustar el escalador en los datos de entrenamiento y aplicarlo a los datos de prueba\n",
        "X_train_scaled = scaler.fit_transform(X_train)\n",
        "X_test_scaled = scaler.transform(X_test)\n",
        "\n",
        "from sklearn.decomposition import PCA\n",
        "\n",
        "# Especificar el número de componentes principales deseado\n",
        "num_components = 7\n",
        "\n",
        "# Crear una instancia de PCA\n",
        "pca = PCA(n_components=num_components)\n",
        "\n",
        "# Ajustar PCA a tus datos escalados de entrenamiento y transformarlos\n",
        "X_train_pca = pca.fit_transform(X_train_scaled)\n",
        "X_test_pca = pca.transform(X_test_scaled)"
      ],
      "metadata": {
        "id": "h9Lt6Oq-wMeN"
      },
      "execution_count": null,
      "outputs": []
    },
    {
      "cell_type": "markdown",
      "source": [
        "## Metodologías de Cross validation:\n",
        "\n",
        "*   Validación simple\n",
        "*   Leave-One-Out Cross Validation (LOOCV)\n",
        "*   K-Fold Cross Validation\n",
        "*   Stratified K-Fold Cross Validation"
      ],
      "metadata": {
        "id": "6IlACztWqvf9"
      }
    },
    {
      "cell_type": "markdown",
      "source": [
        "### Validación simple"
      ],
      "metadata": {
        "id": "Ggj9Tuswr2JL"
      }
    },
    {
      "cell_type": "markdown",
      "source": [
        "El procedimiento de validación simple es una forma sencilla de evaluar el rendimiento de un modelo de machine learning. Consiste en dividir tu conjunto de datos en dos partes: un conjunto de entrenamiento y un conjunto de prueba."
      ],
      "metadata": {
        "id": "XfxomAXgvxZD"
      }
    },
    {
      "cell_type": "code",
      "source": [
        "from sklearn.linear_model import LogisticRegression\n",
        "from sklearn.metrics import accuracy_score , mean_squared_error, r2_score\n",
        "\n",
        "# Crear un modelo de regresión logistica\n",
        "clf = LogisticRegression()\n",
        "\n",
        "# Entrenar el modelo con el conjunto de entrenamiento\n",
        "clf.fit(X_train_pca, y_train)\n",
        "\n",
        "# Realizar predicciones en el conjunto de prueba\n",
        "y_pred = clf.predict(X_test_pca)\n",
        "\n",
        "# Calcular la precisión, el error cuadrático medio y el coeficiente de determinación\n",
        "y_test.replace({\"No\": 0, \"Yes\": 1}, inplace=True)\n",
        "y_pred = np.where(y_pred == 'No', 0, 1)\n",
        "mse = mean_squared_error(y_test, y_pred)\n",
        "r2 = r2_score(y_test, y_pred)\n",
        "accuracy = accuracy_score(y_test, y_pred)\n",
        "print(\"Precisión de Regresión Logística en validación simple:\", accuracy)\n",
        "print(\"Error cuadrático medio en validación simple:\", mse)\n",
        "print(\"Coeficiente de determinación (R^2) en validación simple:\", r2)"
      ],
      "metadata": {
        "colab": {
          "base_uri": "https://localhost:8080/"
        },
        "id": "0RATI8VNtJNu",
        "outputId": "e7c65d54-3e61-49c2-a6fe-9610aa6b96b0"
      },
      "execution_count": null,
      "outputs": [
        {
          "output_type": "stream",
          "name": "stdout",
          "text": [
            "Precisión de Regresión Logística en validación simple: 0.864501679731243\n",
            "Error cuadrático medio en validación simple: 0.135498320268757\n",
            "Coeficiente de determinación (R^2) en validación simple: 0.14738976738313936\n"
          ]
        }
      ]
    },
    {
      "cell_type": "markdown",
      "source": [
        "### Leave-One-Out Cross Validation (LOOCV)"
      ],
      "metadata": {
        "id": "8yrZswg8vqqD"
      }
    },
    {
      "cell_type": "markdown",
      "source": [
        "La validación Leave-One-Out Cross Validation (LOOCV) es un enfoque en el que se entrena y evalúa el modelo utilizando todas las muestras excepto una en cada iteración. Esto significa que se realiza una iteración para cada muestra en el conjunto de datos, lo que garantiza que cada muestra haya sido excluida exactamente una vez como conjunto de prueba."
      ],
      "metadata": {
        "id": "3lXG9IFyv109"
      }
    },
    {
      "cell_type": "code",
      "source": [
        "from sklearn.model_selection import LeaveOneOut\n",
        "from sklearn.linear_model import LogisticRegression\n",
        "from sklearn.metrics import accuracy_score , mean_squared_error, r2_score\n",
        "\n",
        "# Inicializa LOOCV\n",
        "loo = LeaveOneOut()\n",
        "\n",
        "# Itera a través de LOOCV\n",
        "for train_index, test_index in loo.split(X):\n",
        "    X_train_pca, X_test_pca = X.iloc[train_index], X.iloc[test_index]\n",
        "    y_train, y_test = y.iloc[train_index], y.iloc[test_index]\n",
        "\n",
        "# Crear un modelo de regresión logistica\n",
        "clf = LogisticRegression(max_iter=1000) # se incremento la cantidad de iteraciones\n",
        "\n",
        "# Entrenar el modelo con el conjunto de entrenamiento\n",
        "clf.fit(X_train_pca, y_train)\n",
        "\n",
        "# Realizar predicciones en el conjunto de prueba\n",
        "y_pred = clf.predict(X_test_pca)\n",
        "\n",
        "# Calcular la precisión, el error cuadrático medio y el coeficiente de determinación\n",
        "y_test.replace({\"No\": 0, \"Yes\": 1}, inplace=True)\n",
        "y_pred = np.where(y_pred == 'No', 0, 1)\n",
        "mse = mean_squared_error(y_test, y_pred)\n",
        "r2 = r2_score(y_test, y_pred)\n",
        "accuracy = accuracy_score(y_test, y_pred)\n",
        "print(\"Precisión de Regresión Logística en LOOCV:\", accuracy)\n",
        "print(f\"Error cuadrático medio promedio en LOOCV: {average_mse}\")\n",
        "print(\"Coeficiente de determinación (R^2) en LOOCV:\", r2)\n"
      ],
      "metadata": {
        "colab": {
          "base_uri": "https://localhost:8080/"
        },
        "id": "15IGOKVdww4u",
        "outputId": "e21858ec-2d8b-48ee-999b-af753c08bbb4"
      },
      "execution_count": null,
      "outputs": [
        {
          "output_type": "stream",
          "name": "stdout",
          "text": [
            "Precisión de Regresión Logística en LOOCV: 1.0\n",
            "Error cuadrático medio promedio en LOOCV: 0.0\n",
            "Coeficiente de determinación (R^2) en LOOCV: nan\n"
          ]
        },
        {
          "output_type": "stream",
          "name": "stderr",
          "text": [
            "/usr/local/lib/python3.10/dist-packages/sklearn/metrics/_regression.py:918: UndefinedMetricWarning: R^2 score is not well-defined with less than two samples.\n",
            "  warnings.warn(msg, UndefinedMetricWarning)\n"
          ]
        }
      ]
    },
    {
      "cell_type": "markdown",
      "source": [
        "### K-Fold Cross Validation"
      ],
      "metadata": {
        "id": "J_86M0LH8PPk"
      }
    },
    {
      "cell_type": "markdown",
      "source": [
        "K-Fold Cross Validation es una técnica que divide el conjunto de datos en \"K\" particiones o \"folds\" (generalmente 5 o 10) y realiza el entrenamiento y la evaluación del modelo K veces. Cada vez, una de las particiones se utiliza como conjunto de prueba, mientras que las otras se utilizan como conjunto de entrenamiento. Esto permite una evaluación más robusta del rendimiento del modelo."
      ],
      "metadata": {
        "id": "cfJ2UiwO8fBM"
      }
    },
    {
      "cell_type": "code",
      "source": [
        "from sklearn.model_selection import KFold\n",
        "from sklearn.linear_model import LogisticRegression\n",
        "from sklearn.metrics import accuracy_score , mean_squared_error, r2_score\n",
        "\n",
        "# Especifica el número de particiones (K)\n",
        "k = 10\n",
        "\n",
        "# para k = 5\n",
        "#Precisión de Regresión Logística en 5-Fold Cross Validation: 0.8823529411764706\n",
        "#Error cuadrático medio promedio en 5-Fold Cross Validation: 0.11764705882352941\n",
        "#Coeficiente de determinación (R^2) en 5-Fold Cross Validation: 0.2353027576836927\n",
        "\n",
        "# para k = 6\n",
        "#recisión de Regresión Logística en 6-Fold Cross Validation: 0.875\n",
        "#Error cuadrático medio promedio en 6-Fold Cross Validation: 0.125\n",
        "#Coeficiente de determinación (R^2) en 6-Fold Cross Validation: 0.2054362710900962\n",
        "\n",
        "# para k = 7\n",
        "#Precisión de Regresión Logística en 7-Fold Cross Validation: 0.8776470588235294\n",
        "#Error cuadrático medio promedio en 7-Fold Cross Validation: 0.1223529411764706\n",
        "#Coeficiente de determinación (R^2) en 7-Fold Cross Validation: 0.2142501599943114\n",
        "\n",
        "# para k = 8\n",
        "#Precisión de Regresión Logística en 8-Fold Cross Validation: 0.8790322580645161\n",
        "#Error cuadrático medio promedio en 8-Fold Cross Validation: 0.12096774193548387\n",
        "#Coeficiente de determinación (R^2) en 8-Fold Cross Validation: 0.19931123547137308\n",
        "\n",
        "# para k = 9\n",
        "#Precisión de Regresión Logística en 9-Fold Cross Validation: 0.8787878787878788\n",
        "#Error cuadrático medio promedio en 9-Fold Cross Validation: 0.12121212121212122\n",
        "#Coeficiente de determinación (R^2) en 9-Fold Cross Validation: 0.2055849783341357\n",
        "\n",
        "# para k = 10\n",
        "#Precisión de Regresión Logística en 10-Fold Cross Validation: 0.8754208754208754\n",
        "#Error cuadrático medio promedio en 10-Fold Cross Validation: 0.12457912457912458\n",
        "#Coeficiente de determinación (R^2) en 10-Fold Cross Validation: 0.17438016528925637\n",
        "\n",
        "\n",
        "# Inicializa K-Fold Cross Validation\n",
        "kf = KFold(n_splits=k, shuffle=True, random_state=42)\n",
        "\n",
        "# Itera a través de K-Fold CV\n",
        "for train_index, test_index in kf.split(X):\n",
        "    X_train_pca, X_test_pca = X.iloc[train_index], X.iloc[test_index]\n",
        "    y_train, y_test = y.iloc[train_index], y.iloc[test_index]\n",
        "\n",
        "# Crear un modelo de regresión logistica\n",
        "clf = LogisticRegression(max_iter=1000) # se incremento la cantidad de iteraciones\n",
        "\n",
        "# Entrenar el modelo con el conjunto de entrenamiento\n",
        "clf.fit(X_train_pca, y_train)\n",
        "\n",
        "# Realizar predicciones en el conjunto de prueba\n",
        "y_pred = clf.predict(X_test_pca)\n",
        "\n",
        "# Calcular la precisión, el error cuadrático medio y el coeficiente de determinación\n",
        "y_test.replace({\"No\": 0, \"Yes\": 1}, inplace=True)\n",
        "y_pred = np.where(y_pred == 'No', 0, 1)\n",
        "mse = mean_squared_error(y_test, y_pred)\n",
        "r2 = r2_score(y_test, y_pred)\n",
        "accuracy = accuracy_score(y_test, y_pred)\n",
        "print(f\"Precisión de Regresión Logística en {k}-Fold Cross Validation:\", accuracy)\n",
        "print(f\"Error cuadrático medio promedio en {k}-Fold Cross Validation: {average_mse}\")\n",
        "print(f\"Coeficiente de determinación (R^2) en {k}-Fold Cross Validation:\", r2)"
      ],
      "metadata": {
        "colab": {
          "base_uri": "https://localhost:8080/"
        },
        "id": "lvP2KjOy8YrY",
        "outputId": "0c249981-1c4b-4246-d4b9-9eaa58d5a5ce"
      },
      "execution_count": null,
      "outputs": [
        {
          "output_type": "stream",
          "name": "stdout",
          "text": [
            "Precisión de Regresión Logística en 10-Fold Cross Validation: 0.8754208754208754\n",
            "Error cuadrático medio promedio en 10-Fold Cross Validation: 0.12457912457912458\n",
            "Coeficiente de determinación (R^2) en 10-Fold Cross Validation: 0.17438016528925637\n"
          ]
        }
      ]
    },
    {
      "cell_type": "markdown",
      "source": [
        "### Stratified K-Fold Cross Validation"
      ],
      "metadata": {
        "id": "H-1vCbaLBiWI"
      }
    },
    {
      "cell_type": "markdown",
      "source": [
        "Stratified K-Fold Cross Validation es una variante de K-Fold Cross Validation que asegura que cada partición (fold) tenga aproximadamente la misma proporción de cada clase en el conjunto de datos. Esto es útil cuando estás trabajando en un problema de clasificación donde las clases no están balanceadas."
      ],
      "metadata": {
        "id": "TuHb-DeNBlaa"
      }
    },
    {
      "cell_type": "code",
      "source": [
        "from sklearn.model_selection import StratifiedKFold\n",
        "from sklearn.linear_model import LogisticRegression\n",
        "from sklearn.metrics import accuracy_score , mean_squared_error, r2_score\n",
        "\n",
        "\n",
        "# Especifica el número de particiones (K)\n",
        "k = 10\n",
        "\n",
        "# para k = 5\n",
        "#Precisión de Regresión Logística en Stratified 5-Fold Cross Validation: 0.8621848739495799\n",
        "#Error cuadrático medio promedio en Stratified 5-Fold Cross Validation: 0.13451640010843047\n",
        "#Coeficiente de determinación (R^2) en Stratified 5-Fold Cross Validation: 0.09183977365795559\n",
        "\n",
        "# para k = 6\n",
        "#Precisión de Regresión Logística en Stratified 6-Fold Cross Validation: 0.8629032258064516\n",
        "#Error cuadrático medio promedio en Stratified 6-Fold Cross Validation: 0.1347509795707139\n",
        "#Coeficiente de determinación (R^2) en Stratified 6-Fold Cross Validation: 0.10008271298593874\n",
        "\n",
        "# para k = 7\n",
        "#Precisión de Regresión Logística en Stratified 7-Fold Cross Validation: 0.8682352941176471\n",
        "#Error cuadrático medio promedio en Stratified 7-Fold Cross Validation: 0.1345021234300172\n",
        "#Coeficiente de determinación (R^2) en Stratified 7-Fold Cross Validation: 0.12928952952367012\n",
        "\n",
        "# para k = 8\n",
        "#Precisión de Regresión Logística en Stratified 8-Fold Cross Validation: 0.8655913978494624\n",
        "#Error cuadrático medio promedio en Stratified 8-Fold Cross Validation: 0.1344949294854418\n",
        "#Coeficiente de determinación (R^2) en Stratified 8-Fold Cross Validation: 0.12015137180700075\n",
        "\n",
        "# para k = 9\n",
        "#Precisión de Regresión Logística en Stratified 9-Fold Cross Validation: 0.8727272727272727\n",
        "#Error cuadrático medio promedio en Stratified 9-Fold Cross Validation: 0.13397905789881934\n",
        "#Coeficiente de determinación (R^2) en Stratified 9-Fold Cross Validation: 0.1553415808397831\n",
        "\n",
        "# para k = 10\n",
        "#Precisión de Regresión Logística en Stratified 10-Fold Cross Validation: 0.8787878787878788\n",
        "#Error cuadrático medio promedio en Stratified 10-Fold Cross Validation: 0.1331279287863728\n",
        "#Coeficiente de determinación (R^2) en Stratified 10-Fold Cross Validation: 0.19669421487603322\n",
        "\n",
        "# Inicializa Stratified K-Fold Cross Validation\n",
        "stratified_kf = StratifiedKFold(n_splits=k, shuffle=True, random_state=42)\n",
        "\n",
        "# Inicializa una lista para almacenar las puntuaciones (puedes usar la métrica que desees, como precisión o F1-score)\n",
        "scores = []\n",
        "\n",
        "# Itera a través de Stratified K-Fold CV\n",
        "for train_index, test_index in stratified_kf.split(X, y):\n",
        "    X_train_pca, X_test_pca = X.iloc[train_index], X.iloc[test_index]\n",
        "    y_train, y_test = y.iloc[train_index], y.iloc[test_index]\n",
        "\n",
        "# Crear un modelo de regresión logistica\n",
        "clf = LogisticRegression(max_iter=1000) # se incremento la cantidad de iteraciones\n",
        "\n",
        "# Entrenar el modelo con el conjunto de entrenamiento\n",
        "clf.fit(X_train_pca, y_train)\n",
        "\n",
        "# Realizar predicciones en el conjunto de prueba\n",
        "y_pred = clf.predict(X_test_pca)\n",
        "\n",
        "# Calcular la precisión, el error cuadrático medio y el coeficiente de determinación\n",
        "y_test.replace({\"No\": 0, \"Yes\": 1}, inplace=True)\n",
        "y_pred = np.where(y_pred == 'No', 0, 1)\n",
        "mse = mean_squared_error(y_test, y_pred)\n",
        "r2 = r2_score(y_test, y_pred)\n",
        "accuracy = accuracy_score(y_test, y_pred)\n",
        "print(f\"Precisión de Regresión Logística en Stratified {k}-Fold Cross Validation:\", accuracy)\n",
        "print(f\"Error cuadrático medio promedio en Stratified {k}-Fold Cross Validation: {average_mse}\")\n",
        "print(f\"Coeficiente de determinación (R^2) en Stratified {k}-Fold Cross Validation:\", r2)"
      ],
      "metadata": {
        "colab": {
          "base_uri": "https://localhost:8080/"
        },
        "id": "zhl04RvVItAV",
        "outputId": "b197a6ae-4232-49ed-f951-d3c933c18e0d"
      },
      "execution_count": null,
      "outputs": [
        {
          "output_type": "stream",
          "name": "stdout",
          "text": [
            "Precisión de Regresión Logística en Stratified 10-Fold Cross Validation: 0.8787878787878788\n",
            "Error cuadrático medio promedio en Stratified 10-Fold Cross Validation: 0.1331279287863728\n",
            "Coeficiente de determinación (R^2) en Stratified 10-Fold Cross Validation: 0.19669421487603322\n"
          ]
        }
      ]
    },
    {
      "cell_type": "markdown",
      "source": [
        "## Conclusiones"
      ],
      "metadata": {
        "id": "-RAsZO25Pmff"
      }
    },
    {
      "cell_type": "markdown",
      "source": [
        "### Comparación entre las diferentes metodologías"
      ],
      "metadata": {
        "id": "8fQEftfZc5rL"
      }
    },
    {
      "cell_type": "markdown",
      "source": [
        "\n",
        "*   **Validación simple**\n",
        "\n",
        "> Precisión en validación simple: 0.864\n",
        "\n",
        "> Error cuadrático medio en validación simple: 0.135\n",
        "\n",
        "> Coeficiente de determinación (R^2) en validación simple: 0.147\n",
        "\n",
        "\n"
      ],
      "metadata": {
        "id": "9Q6W-0ryP1h3"
      }
    },
    {
      "cell_type": "markdown",
      "source": [
        "*   **Leave-One-Out Cross Validation (LOOCV)**\n",
        "\n",
        "> Precisión en LOOCV: 1.0\n",
        "\n",
        "> Error cuadrático medio promedio en LOOCV: 0.0\n",
        "\n",
        "> Coeficiente de determinación (R^2) en LOOCV: -\n",
        "\n",
        "\n"
      ],
      "metadata": {
        "id": "vDqsIvw6dFjl"
      }
    },
    {
      "cell_type": "markdown",
      "source": [
        "*   **K-Fold Cross Validation**\n",
        "\n",
        "Para k=5\n",
        "\n",
        "> Precisión en 5-Fold Cross Validation: 0.882\n",
        "\n",
        "> Error cuadrático medio promedio en 5-Fold Cross Validation: 0.117\n",
        "\n",
        "> Coeficiente de determinación (R^2) en 5-Fold Cross Validation: 0.235\n",
        "\n",
        "Para K=10\n",
        "\n",
        "> Precisión en 10-Fold Cross Validation: 0.875\n",
        "\n",
        "> Error cuadrático medio promedio en 10-Fold Cross Validation: 0.124\n",
        "\n",
        "> Coeficiente de determinación (R^2) en 10-Fold Cross Validation: 0.174\n",
        "\n",
        "\n"
      ],
      "metadata": {
        "id": "AG7qK9uGdKVu"
      }
    },
    {
      "cell_type": "markdown",
      "source": [
        "*   **Stratified K-Fold Cross Validation**\n",
        "\n",
        "Para k=5\n",
        "\n",
        "> Precisión en Stratified 5-Fold Cross Validation: 0.862\n",
        "\n",
        "> Error cuadrático medio promedio en Stratified 5-Fold Cross Validation: 0.134\n",
        "\n",
        "> Coeficiente de determinación (R^2) en Stratified 5-Fold Cross Validation: 0.091\n",
        "\n",
        "Para K=10\n",
        "\n",
        "> Precisión en Stratified 10-Fold Cross Validation: 0.878\n",
        "\n",
        "> Error cuadrático medio promedio en Stratified 10-Fold Cross Validation: 0.133\n",
        "\n",
        "> Coeficiente de determinación (R^2) en Stratified 10-Fold Cross Validation: 0.196"
      ],
      "metadata": {
        "id": "m8WPzeYmdNM2"
      }
    },
    {
      "cell_type": "markdown",
      "source": [
        "### Elección de la metodología de trabajo"
      ],
      "metadata": {
        "id": "dCMnNakldP9o"
      }
    },
    {
      "cell_type": "markdown",
      "source": [
        "Si bien los resultados de **leave-one-out cross validation (LOOCV)** son los mas prometedores, los mismos parten de una df acotado y muy básico lo que puede llevar a inconvenientes al momento de aplicar sobre una base de datos mayor. Además, posee alta variabilidad y tiene un costo computacional muy elevado.\n",
        "\n",
        "Luego los parámetros que se utilizan para la elección del modelo (**precisión, error cuadrático medio y el coeficiente de determinación**) , resultan inferiores en la **validación simple** respecto de **K-Fold Cross Validation** y **Stratified K-Fold Cross Validation** por lo que la elección queda acotada a estos dos modelos.\n",
        "\n",
        "**comparación entre precisión, error cuadrático medio y coeficiente de determinación de los modelos**\n",
        "\n",
        "*   **K-Fold Cross Validation**, para k=5 se obtuvo : Precisión = 0.882 / MSE promedio = 0.117 / R^2= 0.235\n",
        "\n",
        "\n",
        "*   **Stratified K-Fold Cross Validation**, para k=10 se obtuvo : Precisión = 0.878 / MSE promedio = 0.133 / R^2= 0.196\n",
        "\n",
        "**En esta comparativa resulta superior el modelo K-Fold Cross Validation con k=5**\n",
        "\n",
        "\n",
        "\n",
        "\n",
        "\n",
        "\n"
      ],
      "metadata": {
        "id": "j7dITn8teXVq"
      }
    },
    {
      "cell_type": "markdown",
      "source": [
        "El error cuadrático medio (MSE) obtenido fue de 0.117. Este valor indica la magnitud promedio de los errores al predecir los días de lluvia. Un MSE más bajo indica un mejor ajuste del modelo a los datos. En este caso, el valor obtenido sugiere que el algoritmo de regresión logística tiene un buen rendimiento en la predicción de los días de lluvia.\n",
        "\n",
        "El coeficiente de determinación (R^2) obtenido fue de 0.235. Este valor indica la proporción de la variabilidad en la variable objetivo (días de lluvia) que puede explicarse por el modelo. Un valor de R^2 más cercano a 1 indica un mejor ajuste del modelo a los datos. En este caso, el valor obtenido significa que aproximadamente el 23% de la variabilidad en los datos climáticos está siendo explicada por el modelo.\n",
        "\n",
        "Como se está trabajando con datos climáticos, los datos mismos pueden tener una alta variabilidad inherente que no se puede explicar fácilmente con las variables que se están utilizando en el modelo y puede requerir más datos de difícil acceso para corregirlo. Cabe destacar que un modelo con un R-squared bajo puede proporcionar información valiosa si se interpreta adecuadamente y se utiliza junto con otros conocimientos científicos.\n",
        "\n",
        "**Entonces el modelo elegido será el K-Fold Cross Validation con k=5**\n",
        "\n",
        "\n",
        "\n",
        "---\n",
        "\n",
        "\n"
      ],
      "metadata": {
        "id": "KZ2V7qcljioh"
      }
    }
  ]
}